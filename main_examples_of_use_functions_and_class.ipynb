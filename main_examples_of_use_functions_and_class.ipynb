{
 "cells": [
  {
   "cell_type": "markdown",
   "metadata": {},
   "source": [
    "## Python Course Project - Calorie Counter\n",
    "\n",
    "### Tests of different functions:\n",
    "\n",
    "- Count calories using basic data."
   ]
  },
  {
   "cell_type": "code",
   "execution_count": 1,
   "metadata": {},
   "outputs": [
    {
     "name": "stdout",
     "output_type": "stream",
     "text": [
      "You ate 1300 calories.\n"
     ]
    }
   ],
   "source": [
    "from module.functions_calorie_counter import total_calories_counter\n",
    "\n",
    "result = total_calories_counter(['Veggie Combo','Hamburger'])\n",
    "\n",
    "print(f'You ate {result} calories.')"
   ]
  },
  {
   "cell_type": "markdown",
   "metadata": {},
   "source": [
    "- Count calories using advanced data."
   ]
  },
  {
   "cell_type": "code",
   "execution_count": 11,
   "metadata": {},
   "outputs": [
    {
     "name": "stdout",
     "output_type": "stream",
     "text": [
      "You ate 700 calories.\n"
     ]
    }
   ],
   "source": [
    "from module.functions_calorie_counter import calorie_counter_advanced_data\n",
    "\n",
    "result = calorie_counter_advanced_data(['combo-2'])\n",
    "\n",
    "print(f'You ate {result} calories.')"
   ]
  },
  {
   "cell_type": "markdown",
   "metadata": {},
   "source": [
    "- Count costs using advanced data."
   ]
  },
  {
   "cell_type": "code",
   "execution_count": 10,
   "metadata": {},
   "outputs": [
    {
     "name": "stdout",
     "output_type": "stream",
     "text": [
      "Your should pay 16$.\n"
     ]
    }
   ],
   "source": [
    "from module.functions_calorie_counter import costs_counter_advanced_data\n",
    "\n",
    "result = costs_counter_advanced_data(['meal-1','combo-1'])\n",
    "\n",
    "print(f\"Your should pay {result}$.\")"
   ]
  },
  {
   "cell_type": "markdown",
   "metadata": {},
   "source": [
    "- create iterations of the class Order"
   ]
  },
  {
   "cell_type": "code",
   "execution_count": 1,
   "metadata": {},
   "outputs": [
    {
     "name": "stdout",
     "output_type": "stream",
     "text": [
      "Order 1\n",
      "Order id: order--1\n",
      "Order date: 2022-01-01\n",
      "Order: ['meal-1', 'meal-2']\n",
      "Order calories: 1350\n",
      "Order cost: 12\n",
      "Order accepted: True\n",
      "Order refuse reason: None\n",
      " \n",
      "Order 2\n",
      "Order id: order--2\n",
      "Order date: 2023-10-19\n",
      "Order: ['meal-2', 'meal-3', 'combo-1']\n",
      "Order calories: None\n",
      "Order cost: None\n",
      "Order accepted: False\n",
      "Order refuse reason: Too many calories: 2220; maximum is 2000.\n"
     ]
    }
   ],
   "source": [
    "from module.Order_Class import Order\n",
    "\n",
    "order_1 = Order(['meal-1', 'meal-2'], date=\"1-Jan-2022\")\n",
    "order_2 = Order(['meal-2', 'meal-3', 'combo-1'])\n",
    "\n",
    "print(\"Order 1\")\n",
    "print(f\"Order id: {order_1.order_id}\")\n",
    "print(f\"Order date: {order_1.date}\")\n",
    "print(f\"Order: {order_1.items}\")\n",
    "print(f\"Order calories: {order_1.calories}\")\n",
    "print(f\"Order cost: {order_1.price}\")\n",
    "print(f\"Order accepted: {order_1.order_accepted}\")\n",
    "print(f\"Order refuse reason: {order_1.order_refused_reason}\")\n",
    "\n",
    "print(\" \")\n",
    "print(\"Order 2\")\n",
    "print(f\"Order id: {order_2.order_id}\")\n",
    "print(f\"Order date: {order_2.date}\")\n",
    "print(f\"Order: {order_2.items}\")\n",
    "print(f\"Order calories: {order_2.calories}\")\n",
    "print(f\"Order cost: {order_2.price}\")\n",
    "print(f\"Order accepted: {order_2.order_accepted}\")\n",
    "print(f\"Order refuse reason: {order_2.order_refused_reason}\")"
   ]
  },
  {
   "cell_type": "markdown",
   "metadata": {},
   "source": [
    "Download requirements file:"
   ]
  },
  {
   "cell_type": "code",
   "execution_count": 1,
   "metadata": {},
   "outputs": [
    {
     "name": "stdout",
     "output_type": "stream",
     "text": [
      "Note: you may need to restart the kernel to use updated packages.\n"
     ]
    }
   ],
   "source": [
    "#pip freeze > requirements.txt"
   ]
  },
  {
   "cell_type": "code",
   "execution_count": 2,
   "metadata": {},
   "outputs": [
    {
     "data": {
      "text/plain": [
       "str"
      ]
     },
     "execution_count": 2,
     "metadata": {},
     "output_type": "execute_result"
    }
   ],
   "source": [
    "from module.Order_Class import Order\n",
    "\n",
    "result = Order(['invalid-meal']).order_refused_reason\n",
    "type(result)\n",
    "\n"
   ]
  },
  {
   "cell_type": "code",
   "execution_count": null,
   "metadata": {},
   "outputs": [],
   "source": []
  }
 ],
 "metadata": {
  "kernelspec": {
   "display_name": "Python 3",
   "language": "python",
   "name": "python3"
  },
  "language_info": {
   "codemirror_mode": {
    "name": "ipython",
    "version": 3
   },
   "file_extension": ".py",
   "mimetype": "text/x-python",
   "name": "python",
   "nbconvert_exporter": "python",
   "pygments_lexer": "ipython3",
   "version": "3.7.4"
  },
  "orig_nbformat": 4
 },
 "nbformat": 4,
 "nbformat_minor": 2
}
